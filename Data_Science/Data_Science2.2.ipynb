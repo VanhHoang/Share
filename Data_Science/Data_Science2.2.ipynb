{
 "cells": [
  {
   "cell_type": "markdown",
   "id": "9ac586db",
   "metadata": {},
   "source": [
    "![anh](NicePng_science-icon-png_1349715.png)"
   ]
  },
  {
   "cell_type": "markdown",
   "id": "dcccd786",
   "metadata": {},
   "source": [
    "![anh](https://nyesteventuretech.com/images/data-science-full%20course-logo.png)"
   ]
  },
  {
   "cell_type": "markdown",
   "id": "bc91d296",
   "metadata": {},
   "source": [
    "Bài tham khảo 2.2:"
   ]
  },
  {
   "cell_type": "code",
   "execution_count": 8,
   "id": "9cefb571",
   "metadata": {},
   "outputs": [
    {
     "name": "stdout",
     "output_type": "stream",
     "text": [
      "Nhập vào số a : 9\n",
      "<class 'str'>\n",
      "<class 'int'>\n",
      "Nhập vào số b : 5\n",
      "<class 'str'>\n",
      "<class 'int'>\n",
      "____________________\n",
      "Tổng a + b = 14\n",
      "Hiệu a - b = 4\n",
      "Tích a * b = 45\n",
      "Thương a / b = 1.8\n"
     ]
    }
   ],
   "source": [
    "# Nhập vào xâu a\n",
    "a = input(\"Nhập vào số a : \")\n",
    "print(type(a))\n",
    "\n",
    "#Ép kiểu xâu a sang int num_a\n",
    "num_a= int(a)\n",
    "\n",
    "print(type(num_a))\n",
    "\n",
    "#Tương tự xâu b\n",
    "b=input(\"Nhập vào số b : \")\n",
    "print(type(b))\n",
    "\n",
    "num_b = int(b)\n",
    "print(type(num_b))\n",
    "\n",
    "\n",
    "print(\"____________________\")\n",
    "#Sử dụng hàm str() để chuyển về str\n",
    "\n",
    "#Tính a + b\n",
    "print(\"Tổng a + b = \" + str(num_a + num_b))\n",
    "\n",
    "#Tính a - b\n",
    "print(\"Hiệu a - b = \" + str(num_a - num_b))\n",
    "\n",
    "#Tính a * b\n",
    "print(\"Tích a * b = \" + str(num_a * num_b))\n",
    "\n",
    "#Tính a / b \n",
    "print(\"Thương a / b = \" + str(num_a / num_b))"
   ]
  }
 ],
 "metadata": {
  "kernelspec": {
   "display_name": "Python 3 (ipykernel)",
   "language": "python",
   "name": "python3"
  },
  "language_info": {
   "codemirror_mode": {
    "name": "ipython",
    "version": 3
   },
   "file_extension": ".py",
   "mimetype": "text/x-python",
   "name": "python",
   "nbconvert_exporter": "python",
   "pygments_lexer": "ipython3",
   "version": "3.11.4"
  }
 },
 "nbformat": 4,
 "nbformat_minor": 5
}
